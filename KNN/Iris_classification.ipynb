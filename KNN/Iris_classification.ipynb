{
  "nbformat": 4,
  "nbformat_minor": 0,
  "metadata": {
    "colab": {
      "provenance": []
    },
    "kernelspec": {
      "name": "python3",
      "display_name": "Python 3"
    },
    "language_info": {
      "name": "python"
    }
  },
  "cells": [
    {
      "cell_type": "code",
      "source": [
        "#Without dataset\n",
        "from sklearn.datasets import load_iris\n",
        "from sklearn.neighbors import KNeighborsClassifier\n",
        "from sklearn.model_selection import train_test_split\n",
        "import numpy as np"
      ],
      "metadata": {
        "id": "q-t00Ar3OMQ5"
      },
      "execution_count": null,
      "outputs": []
    },
    {
      "cell_type": "code",
      "source": [
        "dataset=load_iris()"
      ],
      "metadata": {
        "id": "dCkug8cZORmo"
      },
      "execution_count": null,
      "outputs": []
    },
    {
      "cell_type": "code",
      "source": [
        "X_train,X_test,y_train,y_test=train_test_split(dataset[\"data\"],dataset[\"target\"],random_state=0)"
      ],
      "metadata": {
        "id": "ZIfmkSAQOV_B"
      },
      "execution_count": null,
      "outputs": []
    },
    {
      "cell_type": "code",
      "source": [
        "kn=KNeighborsClassifier(n_neighbors=1)\n",
        "kn.fit(X_train,y_train)\n",
        "for i in range(len(X_test)):\n",
        "  x=X_test[i]\n",
        "  x_new=np.array([x])\n",
        "  prediction=kn.predict(x_new)\n",
        "  print(\"TARGET=\",y_test[i],dataset[\"target_names\"],[y_test[i]],\"PREDICTED=\",prediction,dataset[\"target_names\"][prediction])\n",
        "  print(kn.score(X_test,y_test))"
      ],
      "metadata": {
        "colab": {
          "base_uri": "https://localhost:8080/"
        },
        "id": "RtFKYDC6Oari",
        "outputId": "86fbe1af-0cbd-4c2c-d921-2d475c7887cc"
      },
      "execution_count": null,
      "outputs": [
        {
          "output_type": "stream",
          "name": "stdout",
          "text": [
            "TARGET= 2 ['setosa' 'versicolor' 'virginica'] [2] PREDICTED= [2] ['virginica']\n",
            "0.9736842105263158\n",
            "TARGET= 1 ['setosa' 'versicolor' 'virginica'] [1] PREDICTED= [1] ['versicolor']\n",
            "0.9736842105263158\n",
            "TARGET= 0 ['setosa' 'versicolor' 'virginica'] [0] PREDICTED= [0] ['setosa']\n",
            "0.9736842105263158\n",
            "TARGET= 2 ['setosa' 'versicolor' 'virginica'] [2] PREDICTED= [2] ['virginica']\n",
            "0.9736842105263158\n",
            "TARGET= 0 ['setosa' 'versicolor' 'virginica'] [0] PREDICTED= [0] ['setosa']\n",
            "0.9736842105263158\n",
            "TARGET= 2 ['setosa' 'versicolor' 'virginica'] [2] PREDICTED= [2] ['virginica']\n",
            "0.9736842105263158\n",
            "TARGET= 0 ['setosa' 'versicolor' 'virginica'] [0] PREDICTED= [0] ['setosa']\n",
            "0.9736842105263158\n",
            "TARGET= 1 ['setosa' 'versicolor' 'virginica'] [1] PREDICTED= [1] ['versicolor']\n",
            "0.9736842105263158\n",
            "TARGET= 1 ['setosa' 'versicolor' 'virginica'] [1] PREDICTED= [1] ['versicolor']\n",
            "0.9736842105263158\n",
            "TARGET= 1 ['setosa' 'versicolor' 'virginica'] [1] PREDICTED= [1] ['versicolor']\n",
            "0.9736842105263158\n",
            "TARGET= 2 ['setosa' 'versicolor' 'virginica'] [2] PREDICTED= [2] ['virginica']\n",
            "0.9736842105263158\n",
            "TARGET= 1 ['setosa' 'versicolor' 'virginica'] [1] PREDICTED= [1] ['versicolor']\n",
            "0.9736842105263158\n",
            "TARGET= 1 ['setosa' 'versicolor' 'virginica'] [1] PREDICTED= [1] ['versicolor']\n",
            "0.9736842105263158\n",
            "TARGET= 1 ['setosa' 'versicolor' 'virginica'] [1] PREDICTED= [1] ['versicolor']\n",
            "0.9736842105263158\n",
            "TARGET= 1 ['setosa' 'versicolor' 'virginica'] [1] PREDICTED= [1] ['versicolor']\n",
            "0.9736842105263158\n",
            "TARGET= 0 ['setosa' 'versicolor' 'virginica'] [0] PREDICTED= [0] ['setosa']\n",
            "0.9736842105263158\n",
            "TARGET= 1 ['setosa' 'versicolor' 'virginica'] [1] PREDICTED= [1] ['versicolor']\n",
            "0.9736842105263158\n",
            "TARGET= 1 ['setosa' 'versicolor' 'virginica'] [1] PREDICTED= [1] ['versicolor']\n",
            "0.9736842105263158\n",
            "TARGET= 0 ['setosa' 'versicolor' 'virginica'] [0] PREDICTED= [0] ['setosa']\n",
            "0.9736842105263158\n",
            "TARGET= 0 ['setosa' 'versicolor' 'virginica'] [0] PREDICTED= [0] ['setosa']\n",
            "0.9736842105263158\n",
            "TARGET= 2 ['setosa' 'versicolor' 'virginica'] [2] PREDICTED= [2] ['virginica']\n",
            "0.9736842105263158\n",
            "TARGET= 1 ['setosa' 'versicolor' 'virginica'] [1] PREDICTED= [1] ['versicolor']\n",
            "0.9736842105263158\n",
            "TARGET= 0 ['setosa' 'versicolor' 'virginica'] [0] PREDICTED= [0] ['setosa']\n",
            "0.9736842105263158\n",
            "TARGET= 0 ['setosa' 'versicolor' 'virginica'] [0] PREDICTED= [0] ['setosa']\n",
            "0.9736842105263158\n",
            "TARGET= 2 ['setosa' 'versicolor' 'virginica'] [2] PREDICTED= [2] ['virginica']\n",
            "0.9736842105263158\n",
            "TARGET= 0 ['setosa' 'versicolor' 'virginica'] [0] PREDICTED= [0] ['setosa']\n",
            "0.9736842105263158\n",
            "TARGET= 0 ['setosa' 'versicolor' 'virginica'] [0] PREDICTED= [0] ['setosa']\n",
            "0.9736842105263158\n",
            "TARGET= 1 ['setosa' 'versicolor' 'virginica'] [1] PREDICTED= [1] ['versicolor']\n",
            "0.9736842105263158\n",
            "TARGET= 1 ['setosa' 'versicolor' 'virginica'] [1] PREDICTED= [1] ['versicolor']\n",
            "0.9736842105263158\n",
            "TARGET= 0 ['setosa' 'versicolor' 'virginica'] [0] PREDICTED= [0] ['setosa']\n",
            "0.9736842105263158\n",
            "TARGET= 2 ['setosa' 'versicolor' 'virginica'] [2] PREDICTED= [2] ['virginica']\n",
            "0.9736842105263158\n",
            "TARGET= 1 ['setosa' 'versicolor' 'virginica'] [1] PREDICTED= [1] ['versicolor']\n",
            "0.9736842105263158\n",
            "TARGET= 0 ['setosa' 'versicolor' 'virginica'] [0] PREDICTED= [0] ['setosa']\n",
            "0.9736842105263158\n",
            "TARGET= 2 ['setosa' 'versicolor' 'virginica'] [2] PREDICTED= [2] ['virginica']\n",
            "0.9736842105263158\n",
            "TARGET= 2 ['setosa' 'versicolor' 'virginica'] [2] PREDICTED= [2] ['virginica']\n",
            "0.9736842105263158\n",
            "TARGET= 1 ['setosa' 'versicolor' 'virginica'] [1] PREDICTED= [1] ['versicolor']\n",
            "0.9736842105263158\n",
            "TARGET= 0 ['setosa' 'versicolor' 'virginica'] [0] PREDICTED= [0] ['setosa']\n",
            "0.9736842105263158\n",
            "TARGET= 1 ['setosa' 'versicolor' 'virginica'] [1] PREDICTED= [2] ['virginica']\n",
            "0.9736842105263158\n"
          ]
        }
      ]
    },
    {
      "cell_type": "code",
      "source": [
        "#With Dataset\n",
        "from sklearn.model_selection import train_test_split\n",
        "from sklearn.neighbors import KNeighborsClassifier\n",
        "from sklearn.metrics import classification_report\n",
        "from sklearn.metrics import confusion_matrix\n",
        "import pandas as pd\n",
        "import numpy as np\n",
        "from sklearn import datasets"
      ],
      "metadata": {
        "id": "rQnzCoU0O9Cg"
      },
      "execution_count": null,
      "outputs": []
    },
    {
      "cell_type": "code",
      "source": [
        "iris=datasets.load_iris()\n",
        "iris_data=iris.data\n",
        "iris_labels=iris.target\n",
        "print(iris_data)"
      ],
      "metadata": {
        "colab": {
          "base_uri": "https://localhost:8080/"
        },
        "id": "yiJhMne4PBFw",
        "outputId": "26895b7e-a5bf-47ea-d5ee-1ed30560be11"
      },
      "execution_count": null,
      "outputs": [
        {
          "output_type": "stream",
          "name": "stdout",
          "text": [
            "[[5.1 3.5 1.4 0.2]\n",
            " [4.9 3.  1.4 0.2]\n",
            " [4.7 3.2 1.3 0.2]\n",
            " [4.6 3.1 1.5 0.2]\n",
            " [5.  3.6 1.4 0.2]\n",
            " [5.4 3.9 1.7 0.4]\n",
            " [4.6 3.4 1.4 0.3]\n",
            " [5.  3.4 1.5 0.2]\n",
            " [4.4 2.9 1.4 0.2]\n",
            " [4.9 3.1 1.5 0.1]\n",
            " [5.4 3.7 1.5 0.2]\n",
            " [4.8 3.4 1.6 0.2]\n",
            " [4.8 3.  1.4 0.1]\n",
            " [4.3 3.  1.1 0.1]\n",
            " [5.8 4.  1.2 0.2]\n",
            " [5.7 4.4 1.5 0.4]\n",
            " [5.4 3.9 1.3 0.4]\n",
            " [5.1 3.5 1.4 0.3]\n",
            " [5.7 3.8 1.7 0.3]\n",
            " [5.1 3.8 1.5 0.3]\n",
            " [5.4 3.4 1.7 0.2]\n",
            " [5.1 3.7 1.5 0.4]\n",
            " [4.6 3.6 1.  0.2]\n",
            " [5.1 3.3 1.7 0.5]\n",
            " [4.8 3.4 1.9 0.2]\n",
            " [5.  3.  1.6 0.2]\n",
            " [5.  3.4 1.6 0.4]\n",
            " [5.2 3.5 1.5 0.2]\n",
            " [5.2 3.4 1.4 0.2]\n",
            " [4.7 3.2 1.6 0.2]\n",
            " [4.8 3.1 1.6 0.2]\n",
            " [5.4 3.4 1.5 0.4]\n",
            " [5.2 4.1 1.5 0.1]\n",
            " [5.5 4.2 1.4 0.2]\n",
            " [4.9 3.1 1.5 0.2]\n",
            " [5.  3.2 1.2 0.2]\n",
            " [5.5 3.5 1.3 0.2]\n",
            " [4.9 3.6 1.4 0.1]\n",
            " [4.4 3.  1.3 0.2]\n",
            " [5.1 3.4 1.5 0.2]\n",
            " [5.  3.5 1.3 0.3]\n",
            " [4.5 2.3 1.3 0.3]\n",
            " [4.4 3.2 1.3 0.2]\n",
            " [5.  3.5 1.6 0.6]\n",
            " [5.1 3.8 1.9 0.4]\n",
            " [4.8 3.  1.4 0.3]\n",
            " [5.1 3.8 1.6 0.2]\n",
            " [4.6 3.2 1.4 0.2]\n",
            " [5.3 3.7 1.5 0.2]\n",
            " [5.  3.3 1.4 0.2]\n",
            " [7.  3.2 4.7 1.4]\n",
            " [6.4 3.2 4.5 1.5]\n",
            " [6.9 3.1 4.9 1.5]\n",
            " [5.5 2.3 4.  1.3]\n",
            " [6.5 2.8 4.6 1.5]\n",
            " [5.7 2.8 4.5 1.3]\n",
            " [6.3 3.3 4.7 1.6]\n",
            " [4.9 2.4 3.3 1. ]\n",
            " [6.6 2.9 4.6 1.3]\n",
            " [5.2 2.7 3.9 1.4]\n",
            " [5.  2.  3.5 1. ]\n",
            " [5.9 3.  4.2 1.5]\n",
            " [6.  2.2 4.  1. ]\n",
            " [6.1 2.9 4.7 1.4]\n",
            " [5.6 2.9 3.6 1.3]\n",
            " [6.7 3.1 4.4 1.4]\n",
            " [5.6 3.  4.5 1.5]\n",
            " [5.8 2.7 4.1 1. ]\n",
            " [6.2 2.2 4.5 1.5]\n",
            " [5.6 2.5 3.9 1.1]\n",
            " [5.9 3.2 4.8 1.8]\n",
            " [6.1 2.8 4.  1.3]\n",
            " [6.3 2.5 4.9 1.5]\n",
            " [6.1 2.8 4.7 1.2]\n",
            " [6.4 2.9 4.3 1.3]\n",
            " [6.6 3.  4.4 1.4]\n",
            " [6.8 2.8 4.8 1.4]\n",
            " [6.7 3.  5.  1.7]\n",
            " [6.  2.9 4.5 1.5]\n",
            " [5.7 2.6 3.5 1. ]\n",
            " [5.5 2.4 3.8 1.1]\n",
            " [5.5 2.4 3.7 1. ]\n",
            " [5.8 2.7 3.9 1.2]\n",
            " [6.  2.7 5.1 1.6]\n",
            " [5.4 3.  4.5 1.5]\n",
            " [6.  3.4 4.5 1.6]\n",
            " [6.7 3.1 4.7 1.5]\n",
            " [6.3 2.3 4.4 1.3]\n",
            " [5.6 3.  4.1 1.3]\n",
            " [5.5 2.5 4.  1.3]\n",
            " [5.5 2.6 4.4 1.2]\n",
            " [6.1 3.  4.6 1.4]\n",
            " [5.8 2.6 4.  1.2]\n",
            " [5.  2.3 3.3 1. ]\n",
            " [5.6 2.7 4.2 1.3]\n",
            " [5.7 3.  4.2 1.2]\n",
            " [5.7 2.9 4.2 1.3]\n",
            " [6.2 2.9 4.3 1.3]\n",
            " [5.1 2.5 3.  1.1]\n",
            " [5.7 2.8 4.1 1.3]\n",
            " [6.3 3.3 6.  2.5]\n",
            " [5.8 2.7 5.1 1.9]\n",
            " [7.1 3.  5.9 2.1]\n",
            " [6.3 2.9 5.6 1.8]\n",
            " [6.5 3.  5.8 2.2]\n",
            " [7.6 3.  6.6 2.1]\n",
            " [4.9 2.5 4.5 1.7]\n",
            " [7.3 2.9 6.3 1.8]\n",
            " [6.7 2.5 5.8 1.8]\n",
            " [7.2 3.6 6.1 2.5]\n",
            " [6.5 3.2 5.1 2. ]\n",
            " [6.4 2.7 5.3 1.9]\n",
            " [6.8 3.  5.5 2.1]\n",
            " [5.7 2.5 5.  2. ]\n",
            " [5.8 2.8 5.1 2.4]\n",
            " [6.4 3.2 5.3 2.3]\n",
            " [6.5 3.  5.5 1.8]\n",
            " [7.7 3.8 6.7 2.2]\n",
            " [7.7 2.6 6.9 2.3]\n",
            " [6.  2.2 5.  1.5]\n",
            " [6.9 3.2 5.7 2.3]\n",
            " [5.6 2.8 4.9 2. ]\n",
            " [7.7 2.8 6.7 2. ]\n",
            " [6.3 2.7 4.9 1.8]\n",
            " [6.7 3.3 5.7 2.1]\n",
            " [7.2 3.2 6.  1.8]\n",
            " [6.2 2.8 4.8 1.8]\n",
            " [6.1 3.  4.9 1.8]\n",
            " [6.4 2.8 5.6 2.1]\n",
            " [7.2 3.  5.8 1.6]\n",
            " [7.4 2.8 6.1 1.9]\n",
            " [7.9 3.8 6.4 2. ]\n",
            " [6.4 2.8 5.6 2.2]\n",
            " [6.3 2.8 5.1 1.5]\n",
            " [6.1 2.6 5.6 1.4]\n",
            " [7.7 3.  6.1 2.3]\n",
            " [6.3 3.4 5.6 2.4]\n",
            " [6.4 3.1 5.5 1.8]\n",
            " [6.  3.  4.8 1.8]\n",
            " [6.9 3.1 5.4 2.1]\n",
            " [6.7 3.1 5.6 2.4]\n",
            " [6.9 3.1 5.1 2.3]\n",
            " [5.8 2.7 5.1 1.9]\n",
            " [6.8 3.2 5.9 2.3]\n",
            " [6.7 3.3 5.7 2.5]\n",
            " [6.7 3.  5.2 2.3]\n",
            " [6.3 2.5 5.  1.9]\n",
            " [6.5 3.  5.2 2. ]\n",
            " [6.2 3.4 5.4 2.3]\n",
            " [5.9 3.  5.1 1.8]]\n"
          ]
        }
      ]
    },
    {
      "cell_type": "code",
      "source": [
        "x_train, x_test, y_train, y_test=(train_test_split(iris_data, iris_labels, test_size=0.20))"
      ],
      "metadata": {
        "id": "ZXTyqr5APFMg"
      },
      "execution_count": null,
      "outputs": []
    },
    {
      "cell_type": "code",
      "source": [
        "classifier=KNeighborsClassifier(n_neighbors=6)\n",
        "classifier.fit(x_train, y_train)\n",
        "y_pred=classifier.predict(x_test)\n",
        "print(\"accuracy is\")\n",
        "print(classification_report(y_test, y_pred))"
      ],
      "metadata": {
        "colab": {
          "base_uri": "https://localhost:8080/"
        },
        "id": "lG5PN7OJPd4Q",
        "outputId": "82ad36bd-5fe0-485a-d853-347e6e08fa41"
      },
      "execution_count": null,
      "outputs": [
        {
          "output_type": "stream",
          "name": "stdout",
          "text": [
            "accuracy is\n",
            "              precision    recall  f1-score   support\n",
            "\n",
            "           0       1.00      1.00      1.00         9\n",
            "           1       0.89      0.89      0.89         9\n",
            "           2       0.92      0.92      0.92        12\n",
            "\n",
            "    accuracy                           0.93        30\n",
            "   macro avg       0.94      0.94      0.94        30\n",
            "weighted avg       0.93      0.93      0.93        30\n",
            "\n"
          ]
        }
      ]
    }
  ]
}