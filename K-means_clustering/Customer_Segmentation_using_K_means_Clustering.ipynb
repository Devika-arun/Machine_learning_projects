{
  "nbformat": 4,
  "nbformat_minor": 0,
  "metadata": {
    "colab": {
      "provenance": []
    },
    "kernelspec": {
      "name": "python3",
      "display_name": "Python 3"
    },
    "language_info": {
      "name": "python"
    }
  },
  "cells": [
    {
      "cell_type": "markdown",
      "metadata": {
        "id": "RC1JjoPIRVAn"
      },
      "source": [
        "Importing the Dependencies"
      ]
    },
    {
      "cell_type": "code",
      "metadata": {
        "id": "0SlYwiKbRnA4"
      },
      "source": [
        "import numpy as np\n",
        "import pandas as pd\n",
        "import matplotlib.pyplot as plt\n",
        "import seaborn as sns\n",
        "from sklearn.cluster import KMeans"
      ],
      "execution_count": null,
      "outputs": []
    },
    {
      "cell_type": "markdown",
      "metadata": {
        "id": "akurQ45_UifL"
      },
      "source": []
    },
    {
      "cell_type": "markdown",
      "metadata": {
        "id": "Ig-K4armW_wq"
      },
      "source": [
        "Data Collection and Analysis"
      ]
    },
    {
      "cell_type": "code",
      "metadata": {
        "id": "STc7XWhFXISV"
      },
      "source": [
        "#loading the data from csv file to a pandas Dataframe\n",
        "customer_data = pd.read_csv('/content/sample_data/Mall_Customers.csv')"
      ],
      "execution_count": null,
      "outputs": []
    },
    {
      "cell_type": "code",
      "metadata": {
        "colab": {
          "base_uri": "https://localhost:8080/",
          "height": 206
        },
        "id": "UcgbzOkDaeIK",
        "outputId": "95b75917-c263-443f-ff29-479b1b61f8ad"
      },
      "source": [
        "# first five rows in the data frame\n",
        "customer_data.head()"
      ],
      "execution_count": null,
      "outputs": [
        {
          "output_type": "execute_result",
          "data": {
            "text/html": [
              "\n",
              "  <div id=\"df-2646f631-d1a2-46f0-a060-e7e46ec5997d\">\n",
              "    <div class=\"colab-df-container\">\n",
              "      <div>\n",
              "<style scoped>\n",
              "    .dataframe tbody tr th:only-of-type {\n",
              "        vertical-align: middle;\n",
              "    }\n",
              "\n",
              "    .dataframe tbody tr th {\n",
              "        vertical-align: top;\n",
              "    }\n",
              "\n",
              "    .dataframe thead th {\n",
              "        text-align: right;\n",
              "    }\n",
              "</style>\n",
              "<table border=\"1\" class=\"dataframe\">\n",
              "  <thead>\n",
              "    <tr style=\"text-align: right;\">\n",
              "      <th></th>\n",
              "      <th>CustomerID</th>\n",
              "      <th>Gender</th>\n",
              "      <th>Age</th>\n",
              "      <th>Annual Income (k$)</th>\n",
              "      <th>Spending Score (1-100)</th>\n",
              "    </tr>\n",
              "  </thead>\n",
              "  <tbody>\n",
              "    <tr>\n",
              "      <th>0</th>\n",
              "      <td>1</td>\n",
              "      <td>Male</td>\n",
              "      <td>19.0</td>\n",
              "      <td>15</td>\n",
              "      <td>39.0</td>\n",
              "    </tr>\n",
              "    <tr>\n",
              "      <th>1</th>\n",
              "      <td>2</td>\n",
              "      <td>Male</td>\n",
              "      <td>21.0</td>\n",
              "      <td>15</td>\n",
              "      <td>81.0</td>\n",
              "    </tr>\n",
              "    <tr>\n",
              "      <th>2</th>\n",
              "      <td>3</td>\n",
              "      <td>Female</td>\n",
              "      <td>20.0</td>\n",
              "      <td>16</td>\n",
              "      <td>6.0</td>\n",
              "    </tr>\n",
              "    <tr>\n",
              "      <th>3</th>\n",
              "      <td>4</td>\n",
              "      <td>Female</td>\n",
              "      <td>NaN</td>\n",
              "      <td>16</td>\n",
              "      <td>77.0</td>\n",
              "    </tr>\n",
              "    <tr>\n",
              "      <th>4</th>\n",
              "      <td>5</td>\n",
              "      <td>Female</td>\n",
              "      <td>31.0</td>\n",
              "      <td>17</td>\n",
              "      <td>40.0</td>\n",
              "    </tr>\n",
              "  </tbody>\n",
              "</table>\n",
              "</div>\n",
              "      <button class=\"colab-df-convert\" onclick=\"convertToInteractive('df-2646f631-d1a2-46f0-a060-e7e46ec5997d')\"\n",
              "              title=\"Convert this dataframe to an interactive table.\"\n",
              "              style=\"display:none;\">\n",
              "        \n",
              "  <svg xmlns=\"http://www.w3.org/2000/svg\" height=\"24px\"viewBox=\"0 0 24 24\"\n",
              "       width=\"24px\">\n",
              "    <path d=\"M0 0h24v24H0V0z\" fill=\"none\"/>\n",
              "    <path d=\"M18.56 5.44l.94 2.06.94-2.06 2.06-.94-2.06-.94-.94-2.06-.94 2.06-2.06.94zm-11 1L8.5 8.5l.94-2.06 2.06-.94-2.06-.94L8.5 2.5l-.94 2.06-2.06.94zm10 10l.94 2.06.94-2.06 2.06-.94-2.06-.94-.94-2.06-.94 2.06-2.06.94z\"/><path d=\"M17.41 7.96l-1.37-1.37c-.4-.4-.92-.59-1.43-.59-.52 0-1.04.2-1.43.59L10.3 9.45l-7.72 7.72c-.78.78-.78 2.05 0 2.83L4 21.41c.39.39.9.59 1.41.59.51 0 1.02-.2 1.41-.59l7.78-7.78 2.81-2.81c.8-.78.8-2.07 0-2.86zM5.41 20L4 18.59l7.72-7.72 1.47 1.35L5.41 20z\"/>\n",
              "  </svg>\n",
              "      </button>\n",
              "      \n",
              "  <style>\n",
              "    .colab-df-container {\n",
              "      display:flex;\n",
              "      flex-wrap:wrap;\n",
              "      gap: 12px;\n",
              "    }\n",
              "\n",
              "    .colab-df-convert {\n",
              "      background-color: #E8F0FE;\n",
              "      border: none;\n",
              "      border-radius: 50%;\n",
              "      cursor: pointer;\n",
              "      display: none;\n",
              "      fill: #1967D2;\n",
              "      height: 32px;\n",
              "      padding: 0 0 0 0;\n",
              "      width: 32px;\n",
              "    }\n",
              "\n",
              "    .colab-df-convert:hover {\n",
              "      background-color: #E2EBFA;\n",
              "      box-shadow: 0px 1px 2px rgba(60, 64, 67, 0.3), 0px 1px 3px 1px rgba(60, 64, 67, 0.15);\n",
              "      fill: #174EA6;\n",
              "    }\n",
              "\n",
              "    [theme=dark] .colab-df-convert {\n",
              "      background-color: #3B4455;\n",
              "      fill: #D2E3FC;\n",
              "    }\n",
              "\n",
              "    [theme=dark] .colab-df-convert:hover {\n",
              "      background-color: #434B5C;\n",
              "      box-shadow: 0px 1px 3px 1px rgba(0, 0, 0, 0.15);\n",
              "      filter: drop-shadow(0px 1px 2px rgba(0, 0, 0, 0.3));\n",
              "      fill: #FFFFFF;\n",
              "    }\n",
              "  </style>\n",
              "\n",
              "      <script>\n",
              "        const buttonEl =\n",
              "          document.querySelector('#df-2646f631-d1a2-46f0-a060-e7e46ec5997d button.colab-df-convert');\n",
              "        buttonEl.style.display =\n",
              "          google.colab.kernel.accessAllowed ? 'block' : 'none';\n",
              "\n",
              "        async function convertToInteractive(key) {\n",
              "          const element = document.querySelector('#df-2646f631-d1a2-46f0-a060-e7e46ec5997d');\n",
              "          const dataTable =\n",
              "            await google.colab.kernel.invokeFunction('convertToInteractive',\n",
              "                                                     [key], {});\n",
              "          if (!dataTable) return;\n",
              "\n",
              "          const docLinkHtml = 'Like what you see? Visit the ' +\n",
              "            '<a target=\"_blank\" href=https://colab.research.google.com/notebooks/data_table.ipynb>data table notebook</a>'\n",
              "            + ' to learn more about interactive tables.';\n",
              "          element.innerHTML = '';\n",
              "          dataTable['output_type'] = 'display_data';\n",
              "          await google.colab.output.renderOutput(dataTable, element);\n",
              "          const docLink = document.createElement('div');\n",
              "          docLink.innerHTML = docLinkHtml;\n",
              "          element.appendChild(docLink);\n",
              "        }\n",
              "      </script>\n",
              "    </div>\n",
              "  </div>\n",
              "  "
            ],
            "text/plain": [
              "   CustomerID  Gender   Age  Annual Income (k$)  Spending Score (1-100)\n",
              "0           1    Male  19.0                  15                    39.0\n",
              "1           2    Male  21.0                  15                    81.0\n",
              "2           3  Female  20.0                  16                     6.0\n",
              "3           4  Female   NaN                  16                    77.0\n",
              "4           5  Female  31.0                  17                    40.0"
            ]
          },
          "metadata": {},
          "execution_count": 7
        }
      ]
    },
    {
      "cell_type": "code",
      "metadata": {
        "colab": {
          "base_uri": "https://localhost:8080/"
        },
        "id": "8i-651robSAM",
        "outputId": "44ec354a-4832-4b82-bc2c-c4fed5ab9d6f"
      },
      "source": [
        "#finding the number of rows and columns\n",
        "customer_data.shape"
      ],
      "execution_count": null,
      "outputs": [
        {
          "output_type": "execute_result",
          "data": {
            "text/plain": [
              "(200, 5)"
            ]
          },
          "metadata": {},
          "execution_count": 8
        }
      ]
    },
    {
      "cell_type": "code",
      "metadata": {
        "colab": {
          "base_uri": "https://localhost:8080/"
        },
        "id": "jWZM4_AFcK60",
        "outputId": "ca96d2fc-072c-471a-e81b-1f278e36200f"
      },
      "source": [
        "#getting some information about the datasets\n",
        "customer_data.info()"
      ],
      "execution_count": null,
      "outputs": [
        {
          "output_type": "stream",
          "name": "stdout",
          "text": [
            "<class 'pandas.core.frame.DataFrame'>\n",
            "RangeIndex: 200 entries, 0 to 199\n",
            "Data columns (total 5 columns):\n",
            " #   Column                  Non-Null Count  Dtype  \n",
            "---  ------                  --------------  -----  \n",
            " 0   CustomerID              200 non-null    int64  \n",
            " 1   Gender                  200 non-null    object \n",
            " 2   Age                     199 non-null    float64\n",
            " 3   Annual Income (k$)      200 non-null    int64  \n",
            " 4   Spending Score (1-100)  199 non-null    float64\n",
            "dtypes: float64(2), int64(2), object(1)\n",
            "memory usage: 7.9+ KB\n"
          ]
        }
      ]
    },
    {
      "cell_type": "code",
      "source": [],
      "metadata": {
        "id": "YBFEUMsxyukA"
      },
      "execution_count": null,
      "outputs": []
    },
    {
      "cell_type": "code",
      "source": [
        "customer_data.fillna(value = customer_data[\"Age\"].mean(), inplace = True)"
      ],
      "metadata": {
        "id": "WHrBzC1_wsbW"
      },
      "execution_count": null,
      "outputs": []
    },
    {
      "cell_type": "code",
      "metadata": {
        "colab": {
          "base_uri": "https://localhost:8080/"
        },
        "id": "YZtltmbuPG7X",
        "outputId": "c4d31dab-be7a-458f-d886-6b15632c79f6"
      },
      "source": [
        "#checking for missing values\n",
        "customer_data.isnull().sum()"
      ],
      "execution_count": null,
      "outputs": [
        {
          "output_type": "execute_result",
          "data": {
            "text/plain": [
              "CustomerID                0\n",
              "Gender                    0\n",
              "Age                       0\n",
              "Annual Income (k$)        0\n",
              "Spending Score (1-100)    0\n",
              "dtype: int64"
            ]
          },
          "metadata": {},
          "execution_count": 23
        }
      ]
    },
    {
      "cell_type": "markdown",
      "metadata": {
        "id": "oTtQqduJQFXn"
      },
      "source": [
        "Choosing annual Income Column & Spending Score Column"
      ]
    },
    {
      "cell_type": "code",
      "metadata": {
        "id": "BjYsvSp7PzKz"
      },
      "source": [
        "X = customer_data.iloc[:,[3,4]].values"
      ],
      "execution_count": null,
      "outputs": []
    },
    {
      "cell_type": "code",
      "metadata": {
        "colab": {
          "base_uri": "https://localhost:8080/"
        },
        "id": "b3DDk6r9RKbr",
        "outputId": "759fd8b4-a841-4557-a7db-127808502f65"
      },
      "source": [
        "print(X)"
      ],
      "execution_count": null,
      "outputs": [
        {
          "output_type": "stream",
          "name": "stdout",
          "text": [
            "[[ 15.          39.        ]\n",
            " [ 15.          81.        ]\n",
            " [ 16.           6.        ]\n",
            " [ 16.          77.        ]\n",
            " [ 17.          40.        ]\n",
            " [ 17.          76.        ]\n",
            " [ 18.           6.        ]\n",
            " [ 18.          94.        ]\n",
            " [ 19.           3.        ]\n",
            " [ 19.          72.        ]\n",
            " [ 19.          14.        ]\n",
            " [ 19.          38.92964824]\n",
            " [ 20.          15.        ]\n",
            " [ 20.          77.        ]\n",
            " [ 20.          13.        ]\n",
            " [ 20.          79.        ]\n",
            " [ 21.          35.        ]\n",
            " [ 21.          66.        ]\n",
            " [ 23.          29.        ]\n",
            " [ 23.          98.        ]\n",
            " [ 24.          35.        ]\n",
            " [ 24.          73.        ]\n",
            " [ 25.           5.        ]\n",
            " [ 25.          73.        ]\n",
            " [ 28.          14.        ]\n",
            " [ 28.          82.        ]\n",
            " [ 28.          32.        ]\n",
            " [ 28.          61.        ]\n",
            " [ 29.          31.        ]\n",
            " [ 29.          87.        ]\n",
            " [ 30.           4.        ]\n",
            " [ 30.          73.        ]\n",
            " [ 33.           4.        ]\n",
            " [ 33.          92.        ]\n",
            " [ 33.          14.        ]\n",
            " [ 33.          81.        ]\n",
            " [ 34.          17.        ]\n",
            " [ 34.          73.        ]\n",
            " [ 37.          26.        ]\n",
            " [ 37.          75.        ]\n",
            " [ 38.          35.        ]\n",
            " [ 38.          92.        ]\n",
            " [ 39.          36.        ]\n",
            " [ 39.          61.        ]\n",
            " [ 39.          28.        ]\n",
            " [ 39.          65.        ]\n",
            " [ 40.          55.        ]\n",
            " [ 40.          47.        ]\n",
            " [ 40.          42.        ]\n",
            " [ 40.          42.        ]\n",
            " [ 42.          52.        ]\n",
            " [ 42.          60.        ]\n",
            " [ 43.          54.        ]\n",
            " [ 43.          60.        ]\n",
            " [ 43.          45.        ]\n",
            " [ 43.          41.        ]\n",
            " [ 44.          50.        ]\n",
            " [ 44.          46.        ]\n",
            " [ 46.          51.        ]\n",
            " [ 46.          46.        ]\n",
            " [ 46.          56.        ]\n",
            " [ 46.          55.        ]\n",
            " [ 47.          52.        ]\n",
            " [ 47.          59.        ]\n",
            " [ 48.          51.        ]\n",
            " [ 48.          59.        ]\n",
            " [ 48.          50.        ]\n",
            " [ 48.          48.        ]\n",
            " [ 48.          59.        ]\n",
            " [ 48.          47.        ]\n",
            " [ 49.          55.        ]\n",
            " [ 49.          42.        ]\n",
            " [ 50.          49.        ]\n",
            " [ 50.          56.        ]\n",
            " [ 54.          47.        ]\n",
            " [ 54.          54.        ]\n",
            " [ 54.          53.        ]\n",
            " [ 54.          48.        ]\n",
            " [ 54.          52.        ]\n",
            " [ 54.          42.        ]\n",
            " [ 54.          51.        ]\n",
            " [ 54.          55.        ]\n",
            " [ 54.          41.        ]\n",
            " [ 54.          44.        ]\n",
            " [ 54.          57.        ]\n",
            " [ 54.          46.        ]\n",
            " [ 57.          58.        ]\n",
            " [ 57.          55.        ]\n",
            " [ 58.          60.        ]\n",
            " [ 58.          46.        ]\n",
            " [ 59.          55.        ]\n",
            " [ 59.          41.        ]\n",
            " [ 60.          49.        ]\n",
            " [ 60.          40.        ]\n",
            " [ 60.          42.        ]\n",
            " [ 60.          52.        ]\n",
            " [ 60.          47.        ]\n",
            " [ 60.          50.        ]\n",
            " [ 61.          42.        ]\n",
            " [ 61.          49.        ]\n",
            " [ 62.          41.        ]\n",
            " [ 62.          48.        ]\n",
            " [ 62.          59.        ]\n",
            " [ 62.          55.        ]\n",
            " [ 62.          56.        ]\n",
            " [ 62.          42.        ]\n",
            " [ 63.          50.        ]\n",
            " [ 63.          46.        ]\n",
            " [ 63.          43.        ]\n",
            " [ 63.          48.        ]\n",
            " [ 63.          52.        ]\n",
            " [ 63.          54.        ]\n",
            " [ 64.          42.        ]\n",
            " [ 64.          46.        ]\n",
            " [ 65.          48.        ]\n",
            " [ 65.          50.        ]\n",
            " [ 65.          43.        ]\n",
            " [ 65.          59.        ]\n",
            " [ 67.          43.        ]\n",
            " [ 67.          57.        ]\n",
            " [ 67.          56.        ]\n",
            " [ 67.          40.        ]\n",
            " [ 69.          58.        ]\n",
            " [ 69.          91.        ]\n",
            " [ 70.          29.        ]\n",
            " [ 70.          77.        ]\n",
            " [ 71.          35.        ]\n",
            " [ 71.          95.        ]\n",
            " [ 71.          11.        ]\n",
            " [ 71.          75.        ]\n",
            " [ 71.           9.        ]\n",
            " [ 71.          75.        ]\n",
            " [ 72.          34.        ]\n",
            " [ 72.          71.        ]\n",
            " [ 73.           5.        ]\n",
            " [ 73.          88.        ]\n",
            " [ 73.           7.        ]\n",
            " [ 73.          73.        ]\n",
            " [ 74.          10.        ]\n",
            " [ 74.          72.        ]\n",
            " [ 75.           5.        ]\n",
            " [ 75.          93.        ]\n",
            " [ 76.          40.        ]\n",
            " [ 76.          87.        ]\n",
            " [ 77.          12.        ]\n",
            " [ 77.          97.        ]\n",
            " [ 77.          36.        ]\n",
            " [ 77.          74.        ]\n",
            " [ 78.          22.        ]\n",
            " [ 78.          90.        ]\n",
            " [ 78.          17.        ]\n",
            " [ 78.          88.        ]\n",
            " [ 78.          20.        ]\n",
            " [ 78.          76.        ]\n",
            " [ 78.          16.        ]\n",
            " [ 78.          89.        ]\n",
            " [ 78.           1.        ]\n",
            " [ 78.          78.        ]\n",
            " [ 78.           1.        ]\n",
            " [ 78.          73.        ]\n",
            " [ 79.          35.        ]\n",
            " [ 79.          83.        ]\n",
            " [ 81.           5.        ]\n",
            " [ 81.          93.        ]\n",
            " [ 85.          26.        ]\n",
            " [ 85.          75.        ]\n",
            " [ 86.          20.        ]\n",
            " [ 86.          95.        ]\n",
            " [ 87.          27.        ]\n",
            " [ 87.          63.        ]\n",
            " [ 87.          13.        ]\n",
            " [ 87.          75.        ]\n",
            " [ 87.          10.        ]\n",
            " [ 87.          92.        ]\n",
            " [ 88.          13.        ]\n",
            " [ 88.          86.        ]\n",
            " [ 88.          15.        ]\n",
            " [ 88.          69.        ]\n",
            " [ 93.          14.        ]\n",
            " [ 93.          90.        ]\n",
            " [ 97.          32.        ]\n",
            " [ 97.          86.        ]\n",
            " [ 98.          15.        ]\n",
            " [ 98.          88.        ]\n",
            " [ 99.          39.        ]\n",
            " [ 99.          97.        ]\n",
            " [101.          24.        ]\n",
            " [101.          68.        ]\n",
            " [103.          17.        ]\n",
            " [103.          85.        ]\n",
            " [103.          23.        ]\n",
            " [103.          69.        ]\n",
            " [113.           8.        ]\n",
            " [113.          91.        ]\n",
            " [120.          16.        ]\n",
            " [120.          79.        ]\n",
            " [126.          28.        ]\n",
            " [126.          74.        ]\n",
            " [137.          18.        ]\n",
            " [137.          83.        ]]\n"
          ]
        }
      ]
    },
    {
      "cell_type": "markdown",
      "metadata": {
        "id": "zKQgg3J2SkOY"
      },
      "source": [
        "Choosing the number of Customers\n",
        "\n",
        "WCSS -> Within Clusters sum of squares"
      ]
    },
    {
      "cell_type": "code",
      "metadata": {
        "id": "Rjio_HU_SXUZ"
      },
      "source": [
        "#finding wcss value for different number of clusters\n",
        "\n",
        "wcss = []\n",
        "\n",
        "for i in range(1,11):\n",
        "  kmeans = KMeans(n_clusters=i, init='k-means++',random_state=42)\n",
        "  kmeans.fit(X)\n",
        "\n",
        "\n",
        "  wcss.append(kmeans.inertia_)"
      ],
      "execution_count": null,
      "outputs": []
    },
    {
      "cell_type": "code",
      "metadata": {
        "colab": {
          "base_uri": "https://localhost:8080/",
          "height": 301
        },
        "id": "sr_ujrS6U3ZY",
        "outputId": "fac199d6-5326-49f9-bb89-0b4ecccf19a8"
      },
      "source": [
        "#plot an elbow graph\n",
        "\n",
        "sns.set()\n",
        "plt.plot(range(1,11), wcss)\n",
        "plt.title('The Elbow Graph')\n",
        "plt.xlabel('Number of Clusters')\n",
        "plt.ylabel('WCSS')\n",
        "plt.show()"
      ],
      "execution_count": null,
      "outputs": [
        {
          "output_type": "display_data",
          "data": {
            "image/png": "[encoded data removed]",
            "text/plain": [
              "<Figure size 432x288 with 1 Axes>"
            ]
          },
          "metadata": {}
        }
      ]
    },
    {
      "cell_type": "markdown",
      "metadata": {
        "id": "zhwT8GH_Al5x"
      },
      "source": [
        "Optimum Number of Clusters = 5\n",
        "\n",
        "Training the K-Means Clustering Model"
      ]
    },
    {
      "cell_type": "code",
      "metadata": {
        "colab": {
          "base_uri": "https://localhost:8080/"
        },
        "id": "OimWlmFo-7d1",
        "outputId": "a58763d4-5a01-4cb7-c511-17f44cfec2b9"
      },
      "source": [
        "kmeans = KMeans(n_clusters=5, init='k-means++', random_state=0)\n",
        "\n",
        "#return a label for each data point based on thier cluster\n",
        "Y = kmeans.fit_predict(X)\n",
        "\n",
        "\n",
        "print(Y)"
      ],
      "execution_count": null,
      "outputs": [
        {
          "output_type": "stream",
          "name": "stdout",
          "text": [
            "[4 3 4 3 4 3 4 3 4 3 4 4 4 3 4 3 4 3 4 3 4 3 4 3 4 3 4 3 4 3 4 3 4 3 4 3 4\n",
            " 3 4 3 4 3 4 1 4 3 1 1 1 1 1 1 1 1 1 1 1 1 1 1 1 1 1 1 1 1 1 1 1 1 1 1 1 1\n",
            " 1 1 1 1 1 1 1 1 1 1 1 1 1 1 1 1 1 1 1 1 1 1 1 1 1 1 1 1 1 1 1 1 1 1 1 1 1\n",
            " 1 1 1 1 1 1 1 1 1 1 1 1 2 0 2 1 2 0 2 0 2 1 2 0 2 0 2 0 2 0 2 1 2 0 2 0 2\n",
            " 0 2 0 2 0 2 0 2 0 2 0 2 0 2 0 2 0 2 0 2 0 2 0 2 0 2 0 2 0 2 0 2 0 2 0 2 0\n",
            " 2 0 2 0 2 0 2 0 2 0 2 0 2 0 2]\n"
          ]
        }
      ]
    },
    {
      "cell_type": "markdown",
      "metadata": {
        "id": "X9FUGmBgB7eo"
      },
      "source": [
        "5 Clusters-0,1,2,3,4\n",
        "\n",
        "Visualizing all the Clusters"
      ]
    },
    {
      "cell_type": "code",
      "metadata": {
        "colab": {
          "base_uri": "https://localhost:8080/",
          "height": 518
        },
        "id": "f_9fGYNsCAfA",
        "outputId": "f22215c5-d0a9-40c6-f713-447bb910179e"
      },
      "source": [
        "#plotting all the clusters and thier centroids\n",
        "\n",
        "plt.figure(figsize=(8,8))\n",
        "plt.scatter(X[Y==0,0], X[Y==0,1], s=50, c='green', label='Cluster 1')\n",
        "plt.scatter(X[Y==1,0], X[Y==1,1], s=50, c='red', label='Cluster 2')\n",
        "plt.scatter(X[Y==2,0], X[Y==2,1], s=50, c='yellow', label='Cluster 3')\n",
        "plt.scatter(X[Y==3,0], X[Y==3,1], s=50, c='violet', label='Cluster 4')\n",
        "plt.scatter(X[Y==4,0], X[Y==4,1], s=50, c='blue', label='Cluster 5')\n",
        "\n",
        "#plot the centroids\n",
        "plt.scatter(kmeans.cluster_centers_[:,0], kmeans.cluster_centers_[:,1], s=100, c='cyan', label='Centroids')\n",
        "\n",
        "plt.title('Customer Groups')\n",
        "plt.xlabel('Annual Income')\n",
        "plt.ylabel('Spending Score')\n",
        "plt.show()"
      ],
      "execution_count": null,
      "outputs": [
        {
          "output_type": "display_data",
          "data": {
            "image/png": "[encoded data removed]",
            "text/plain": [
              "<Figure size 576x576 with 1 Axes>"
            ]
          },
          "metadata": {}
        }
      ]
    }
  ]
}